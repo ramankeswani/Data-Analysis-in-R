{
 "cells": [
  {
   "cell_type": "code",
   "execution_count": 13,
   "metadata": {},
   "outputs": [
    {
     "name": "stdout",
     "output_type": "stream",
     "text": [
      "[1] \"Using direct authentication\"\n"
     ]
    }
   ],
   "source": [
    "# Abhishek Krishna \n",
    "# Raman Keswani\n",
    "\n",
    "# collecting Tweets and saving in CSV\n",
    "\n",
    "library(twitteR)\n",
    "library(ggmap)\n",
    "library(maps)      \n",
    "library(rlist)\n",
    "api_key <- \"4labAgN3hljf7lJCe44d8smWm\" \n",
    "api_secret <- \"Au1jUW42RaxIzVIt1NllbLYvpexYTlEJKPGdMWk8Z1bt23ctGq\"\n",
    "token <- \"272088680-wI4dhRPrlUTPVreyzdKajFpx67tiAp9h8cdR4adp\"\n",
    "token_secret <- \"C4CUQ68wt74uNx5yjhEE0EgqNTbmIwnYjeoVZOgxppZVh\"\n",
    "\n",
    "setup_twitter_oauth(api_key, api_secret, token, token_secret)\n",
    "\n",
    "tweetSearched = searchTwitter('#FLU', geocode='39.0119,-98.48425,2500mi', n = 30)\n",
    "\n",
    "tweet_df = twListToDF(tweetSearched)\n",
    "write.csv(tweet_df, \"tweet_data_tst.csv\")"
   ]
  },
  {
   "cell_type": "code",
   "execution_count": null,
   "metadata": {},
   "outputs": [],
   "source": [
    "# Username lookup\n",
    "\n",
    "usernames_df = twListToDF(lookupUsers(tweet_df$screenName))\n",
    "write.csv(usernames_df, \"usernames_tst.csv\")\n",
    "\n",
    "lat = c()\n",
    "lon = c()\n",
    "\n",
    "# Fetching geocodes from User's location data\n",
    "\n",
    "for(i in 1:length(usernames_df$location)){\n",
    "  if(grepl(',', usernames_df$location[i], fixed = TRUE)){\n",
    "    temp = geocode(usernames_df$location[i])\n",
    "    lat[i] = temp$lat\n",
    "    lon[i] = temp$lon\n",
    "  }\n",
    "  else{\n",
    "    next\n",
    "  }\n",
    "  \n",
    "}\n",
    "\n",
    "lat = na.omit(lat)\n",
    "lon = na.omit(lon)\n",
    "latlon_df = data.frame(lat, lon)\n",
    "write.csv(latlon_df, \"latlon_df_tst.csv\")"
   ]
  },
  {
   "cell_type": "code",
   "execution_count": 11,
   "metadata": {},
   "outputs": [
    {
     "name": "stderr",
     "output_type": "stream",
     "text": [
      "Information from URL : http://maps.googleapis.com/maps/api/geocode/json?latlng=38.9536174,-94.7335709&sensor=false\n",
      "Information from URL : http://maps.googleapis.com/maps/api/geocode/json?latlng=40.9012101,-74.5143232&sensor=false\n",
      "Information from URL : http://maps.googleapis.com/maps/api/geocode/json?latlng=33.7489954,-84.3879824&sensor=false\n",
      "Warning message in revgeocode(c(latlon_df$lon[i], latlon_df$lat[i]), output = c(\"more\")):\n",
      "\"reverse geocode failed - bad location? location = \"-73.8648268\"reverse geocode failed - bad location? location = \"40.8447819\"\"Information from URL : http://maps.googleapis.com/maps/api/geocode/json?latlng=33.7489954,-84.3879824&sensor=false\n",
      "Information from URL : http://maps.googleapis.com/maps/api/geocode/json?latlng=50.768035,0.290472&sensor=false\n",
      "Information from URL : http://maps.googleapis.com/maps/api/geocode/json?latlng=41.6005448,-93.6091064&sensor=false\n",
      "Information from URL : http://maps.googleapis.com/maps/api/geocode/json?latlng=42.3600825,-71.0588801&sensor=false\n",
      "Warning message in revgeocode(c(latlon_df$lon[i], latlon_df$lat[i]), output = c(\"more\")):\n",
      "\"reverse geocode failed - bad location? location = \"-76.6654513\"reverse geocode failed - bad location? location = \"39.0670456\"\"Information from URL : http://maps.googleapis.com/maps/api/geocode/json?latlng=39.768403,-86.158068&sensor=false\n",
      ".Information from URL : http://maps.googleapis.com/maps/api/geocode/json?latlng=45.4895636,-73.8205567&sensor=false\n"
     ]
    }
   ],
   "source": [
    "# Fetching user's states\n",
    "\n",
    "geo_information_rev = c()\n",
    "for(i in 1:length(latlon_df$lat))\n",
    "{\n",
    "  #print(c(lat_lon_df$lon[3], lat_lon_df$lat[3]))\n",
    "  geo_information_rev[i] <- list(revgeocode(c(latlon_df$lon[i], latlon_df$lat[i]),output = c(\"more\")))\n",
    "}\n",
    "\n",
    "geo_information_rev = na.omit(geo_information_rev)\n",
    "filteredData_NEW = list.filter(geo_information_rev, address != 'NA')\n",
    "filteredData_NEW2 = list.filter(filteredData_NEW, country =='United States')\n",
    "\n",
    "states_all = c()\n",
    "for(i in 1:length(filteredData_NEW2)){\n",
    "  states_all[i] = levels(filteredData_NEW2[[i]]$administrative_area_level_1)\n",
    "}\n",
    "\n",
    "write.csv(states_all, \"states_data_tst.csv\")"
   ]
  },
  {
   "cell_type": "code",
   "execution_count": 12,
   "metadata": {},
   "outputs": [
    {
     "name": "stderr",
     "output_type": "stream",
     "text": [
      "\n",
      "Attaching package: 'plyr'\n",
      "\n",
      "The following object is masked from 'package:maps':\n",
      "\n",
      "    ozone\n",
      "\n",
      "The following object is masked from 'package:twitteR':\n",
      "\n",
      "    id\n",
      "\n"
     ]
    },
    {
     "data": {},
     "metadata": {},
     "output_type": "display_data"
    },
    {
     "data": {
      "image/png": "[encoded data removed]",
      "text/plain": [
       "plot without title"
      ]
     },
     "metadata": {},
     "output_type": "display_data"
    }
   ],
   "source": [
    "library(plyr)\n",
    "library(maps)      \n",
    "library(ggplot2)\n",
    "\n",
    "states_all = read.csv(file = \"states_data_tst.csv\")\n",
    "\n",
    "states_all = tolower(states_all$x)\n",
    "facMyStates = factor(states_all)\n",
    "dataTemp = count(facMyStates)\n",
    "dataTemp$STATENAME = dataTemp$x\n",
    "dataTemp$x = c(1:length(dataTemp$x))\n",
    "dataTemp$Tweets = dataTemp$freq\n",
    "\n",
    "theme_opts = list(theme(panel.grid.minor = element_blank(),\n",
    "                        panel.grid.major = element_blank(),\n",
    "                        panel.background = element_blank(),\n",
    "                        plot.background = element_blank(),\n",
    "                        panel.border = element_blank(),\n",
    "                        axis.line = element_blank(),\n",
    "                        axis.text.x = element_blank(),\n",
    "                        axis.text.y = element_blank(),\n",
    "                        axis.ticks = element_blank(),\n",
    "                        axis.title.x = element_blank(),\n",
    "                        axis.title.y = element_blank(),\n",
    "                        legend.text = element_text(),\n",
    "                        legend.position=\"right\"))\n",
    "\n",
    "map <- map_data(\"state\")\n",
    "ggplot(data = dataTemp) + ggtitle(\"           2017-2018 Influenza Season Week 4 ending Jan 27, 2018\") +\n",
    "  geom_polygon(data = map,aes(x=long, y = lat, group = group), fill = NA, color=\"black\", size=0.25) +\n",
    "  geom_map(data = dataTemp, color = \"black\", map = map, aes(map_id = STATENAME, fill = Tweets)) +\n",
    "  coord_map()+\n",
    "  theme_opts+\n",
    "  scale_fill_continuous(low= \"green\", high=\"red\",  space = \"Lab\",na.value=\"white\",guide=\"colorbar\")"
   ]
  }
 ],
 "metadata": {
  "kernelspec": {
   "display_name": "R",
   "language": "R",
   "name": "ir"
  }
 },
 "nbformat": 4,
 "nbformat_minor": 2
}
